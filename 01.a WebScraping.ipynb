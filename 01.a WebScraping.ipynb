{
 "cells": [
  {
   "attachments": {},
   "cell_type": "markdown",
   "metadata": {},
   "source": [
    "# Web Scraping with Python\n",
    "Based on examples from:\n",
    "\n",
    "(1) R. Mitchel, \"Web Scraping with Python: Collecting More Data from the Modern Web 2nd Edition\". O'Reilly, 2nd edition (2018)\n",
    "(2) S. Shetty, \"Python: Web Scraping with Python\" Packt Publishing, (2017)\n",
    "\n",
    "The independence of media or the ability to influence individuals through advertising is a hot topic. \n",
    "Throughout this class we will use web scraping to monitor political news from both left and right wing media outlets and performs an analysis on the rhetoric being used, the ads being displayed, and the sentiment of certain topics and in doing so trying to identify bias in the message being disseminated.\n",
    "\n"
   ]
  },
  {
   "cell_type": "markdown",
   "metadata": {},
   "source": [
    "## Be Respectful when scraping\n",
    "\n",
    "Automatic scraping is different from web browsing as there is not a lot of damage you can do. With a Python script that can execute thousands of requests a second if coded incorrectly, you could end up costing the website owner a lot of money and possibly bring down their site (see [Denial-of-service attack (DoS)](https://en.wikipedia.org/wiki/Denial-of-service_attack)).\n",
    "\n",
    "With this in mind, we want to be very careful with how we program scrapers to avoid crashing sites and causing damage. Every time we scrape a website we want to attempt to **make only one request per page**. We don't want to be making a request every time our parsing or other logic doesn't work out, so we need to parse only after we've saved the page locally.\n",
    "\n",
    "You can run some quick tests using a local web server or news site that are expecting a very high traffic (e.g. wikipedia, or news.google.com, etc.). Also, in a Jupyter notebook you can request a web page in one cell and have that web page available to every cell below it without making a new request.\n",
    "\n",
    "### How to save HTML locally\n",
    "After we make a request and retrieve a web page's content, we can store that content locally with Python's `open()` function. To do so we need to use the argument `wb`, which stands for \"write bytes\". This let's us avoid any encoding issues when saving.\n",
    "\n",
    "Below is a function that wraps the `open()` function to reduce a lot of repetitive coding later on:"
   ]
  },
  {
   "cell_type": "code",
   "execution_count": 2,
   "metadata": {},
   "outputs": [],
   "source": [
    "def save_html(html, path):\n",
    "    #Open the file for writing and in binary mode\n",
    "    with open(path, 'wb') as f:\n",
    "        f.write(html)\n",
    "        \n",
    "        \n",
    "#save_html(r.content, 'google_com')"
   ]
  },
  {
   "cell_type": "markdown",
   "metadata": {},
   "source": [
    "Assume we have captured the HTML from google.com in `html`, which you'll see later how to do. After running this function we will now have a file in the same directory as this notebook called `google_com` that contains the HTML."
   ]
  },
  {
   "cell_type": "markdown",
   "metadata": {},
   "source": [
    "### How to open/read HTML from a local file\n",
    "To retrieve our saved file we'll make another function to wrap reading the HTML back into `html`. We need to use `rb` for \"read bytes\" in this case."
   ]
  },
  {
   "cell_type": "code",
   "execution_count": 5,
   "metadata": {},
   "outputs": [],
   "source": [
    "def open_html(path):\n",
    "    with open(path, 'rb') as f:\n",
    "        return f.read()\n",
    "    \n",
    "#This line will generate an error as the \"google_com\" file does not exists.    \n",
    "#html = open_html('google_com')"
   ]
  },
  {
   "cell_type": "markdown",
   "metadata": {},
   "source": [
    "The open function is doing just the opposite: read the HTML from `google_com`. If our script fails, notebook closes, computer shutsdown, etc., we no longer need to request google.com again, lessening our impact on their servers. While it doesn't matter much with Google since they have a lot of resources, smaller sites with smaller servers will benefit from this.\n",
    "\n",
    "I save almost every page and parse later when web scraping as a safety precaution."
   ]
  },
  {
   "cell_type": "markdown",
   "metadata": {},
   "source": [
    "### Follow the rules for scrapers and bots\n",
    "Each site usually has a **robots.txt** on the root of their domain. This is where the website owner explicitly states what bots are allowed to do on their site. Simply go to example.com/robots.txt and you should find a text file that looks something like this:\n",
    "\n",
    "```text\n",
    "User-agent: *\n",
    "Crawl-delay: 10\n",
    "Allow: /pages/\n",
    "Disallow: /scripts/\n",
    "\n",
    "# more stuff\n",
    "```\n",
    "\n",
    "The *User-agent* field is the name of the bot and the rules that follow are what the bot should follow. Some robots.txt will have many User-agents with different rules. Common bots are *googlebot*, *bingbot*, and *applebot*, all of which you can probably guess the purpose and origin of.\n",
    "\n",
    "We don't really need to provide a User-agent when scraping, so `User-agent: *` is what we would follow. A `*` means that the following rules apply to *all* bots (that's us). \n",
    "\n",
    "The *Crawl-delay* tells us the number of seconds to wait before requests, so in this example we need to wait 10 seconds before making another request.\n",
    "\n",
    "*Allow* gives us specific URLs we're *allowed* to request with bots, and vice versa for *Disallow*. \n",
    "In this example we're allowed to request anything in the **/pages/** subfolder which means anything that starts with **example.com/pages/**. On the other hand, we are disallowed from scraping anything from the **/scripts/** subfolder.\n",
    "\n",
    "Many times you'll see a `*` next to Allow or Disallow which means you are either allowed or not allowed to scrape everything on the site. \n",
    "\n",
    "Sometimes there will be a disallow all pages followed by allowed pages like this:\n",
    "```text\n",
    "Disallow: *\n",
    "Allow: /pages/\n",
    "```\n",
    "This means that you're not allowed to scrape anything *except* the subfolder */pages/*. Essentially, you just want to read the rules in order where the next rule overrides the previous rule."
   ]
  },
  {
   "cell_type": "markdown",
   "metadata": {},
   "source": [
    "## Getting Media Bias Data\n",
    "\n",
    "### Making web requests\n",
    "With Python's `requests` library we're getting a web page by using `get()` on the URL. The response `r` contains many things, but using `r.content` will give us the HTML. Once we have the HTML we can then parse it for the data we're interested in analyzing.\n",
    "\n",
    "There's an interesting website called *AllSides* that has a [media bias rating table](https://www.allsides.com/media-bias/media-bias-ratings) where users can agree or disagree with the rating. \n",
    "\n",
    "<img src=\"https://www.allsides.com/sites/default/files/AllSidesMediaBiasChart-nofooter.jpg\" width=400>\n",
    "\n",
    "Since there's nothing in their robots.txt that disallows us from scraping this section of the site, we are assuming it's okay to go ahead and extract this data for our project. Let's request the this first page:\n",
    "\n",
    "**Verify by looking at https://www.allsides.com/robots.txt**"
   ]
  },
  {
   "cell_type": "code",
   "execution_count": 6,
   "metadata": {},
   "outputs": [
    {
     "name": "stdout",
     "output_type": "stream",
     "text": [
      "Requirement already satisfied: requests in f:\\data\\anaconda5.3.0\\lib\\site-packages (2.19.1)\n",
      "Requirement already satisfied: chardet<3.1.0,>=3.0.2 in f:\\data\\anaconda5.3.0\\lib\\site-packages (from requests) (3.0.4)\n",
      "Requirement already satisfied: urllib3<1.24,>=1.21.1 in f:\\data\\anaconda5.3.0\\lib\\site-packages (from requests) (1.23)\n",
      "Requirement already satisfied: idna<2.8,>=2.5 in f:\\data\\anaconda5.3.0\\lib\\site-packages (from requests) (2.7)\n",
      "Requirement already satisfied: certifi>=2017.4.17 in f:\\data\\anaconda5.3.0\\lib\\site-packages (from requests) (2018.11.29)\n"
     ]
    },
    {
     "name": "stderr",
     "output_type": "stream",
     "text": [
      "twisted 18.7.0 requires PyHamcrest>=1.9.0, which is not installed.\n",
      "You are using pip version 10.0.1, however version 19.0.1 is available.\n",
      "You should consider upgrading via the 'python -m pip install --upgrade pip' command.\n"
     ]
    }
   ],
   "source": [
    "!pip install requests"
   ]
  },
  {
   "cell_type": "code",
   "execution_count": 7,
   "metadata": {},
   "outputs": [
    {
     "name": "stdout",
     "output_type": "stream",
     "text": [
      "b'<!DOCTYPE html>\\n<!--[if IEMobile 7]><html class=\"iem7\"  lang=\"en\" dir=\"ltr\"><![endif]-->\\n<!--[if lte'\n"
     ]
    }
   ],
   "source": [
    "import requests\n",
    "\n",
    "url = 'https://www.allsides.com/media-bias/media-bias-ratings'\n",
    "\n",
    "r = requests.get(url)\n",
    "\n",
    "print(r.content[:100])"
   ]
  },
  {
   "cell_type": "markdown",
   "metadata": {},
   "source": [
    "We now have an HTML string, which is the same as going to that URL with your browser and save the page.\n",
    "\n",
    "This string is very noisy: html, javascript, text, images, css, etc. Let's start extracting data.\n",
    "\n",
    "### Parsing HTML with BeautifulSoup\n",
    "#### What does BeautifulSoup do?\n",
    "We used `requests` to get the page from the AllSides server, but now we need the BeautifulSoup library to parse HTML and XML. When we pass our HTML to the BeautifulSoup constructor we get an object in return that we can then navigate like the original tree structure of the DOM. \n",
    "\n",
    "This way we can find elements using names of tags, classes, IDs, and through relationships to other elements, like getting the children and siblings of elements.\n",
    "\n",
    "#### Creating a new soup object\n",
    "We create a new BeautifulSoup object by passing the constructor our newly acquired HTML content and the type of parser we want to use:"
   ]
  },
  {
   "cell_type": "code",
   "execution_count": 8,
   "metadata": {},
   "outputs": [
    {
     "name": "stdout",
     "output_type": "stream",
     "text": [
      "Requirement already satisfied: beautifulsoup4 in f:\\data\\anaconda5.3.0\\lib\\site-packages (4.6.3)\n"
     ]
    },
    {
     "name": "stderr",
     "output_type": "stream",
     "text": [
      "twisted 18.7.0 requires PyHamcrest>=1.9.0, which is not installed.\n",
      "You are using pip version 10.0.1, however version 19.0.1 is available.\n",
      "You should consider upgrading via the 'python -m pip install --upgrade pip' command.\n"
     ]
    }
   ],
   "source": [
    "!pip install beautifulsoup4"
   ]
  },
  {
   "cell_type": "code",
   "execution_count": 10,
   "metadata": {},
   "outputs": [],
   "source": [
    "from bs4 import BeautifulSoup\n",
    "\n",
    "soup = BeautifulSoup(r.content, 'html.parser')"
   ]
  },
  {
   "cell_type": "markdown",
   "metadata": {},
   "source": [
    "This `soup` object defines a bunch of methods — many of which can achieve the same result — that we can use to extract data from the HTML. Let's start with finding elements.\n",
    "\n",
    "#### Finding elements and data\n",
    "To find elements and data inside our HTML we'll be using `select_one`, which returns a single element, and `select`, which returns a list of elements (even if only one item exists). Both of these methods use CSS selectors to find elements, so if you're rusty on how CSS selectors work here's a quick refresher:\n",
    "\n",
    "**A CSS selector refresher**\n",
    "1. To get a tag, such as `<a></a>`, `<body></body>`, use the naked name for the tag. E.g. `select_one('a')` gets an anchor/link element, `select_one('body')` gets the body element\n",
    "2. `.temp` gets an element with a class of **temp**, E.g. to get `<a class=\"temp\"></a>` use `select_one('.temp')`\n",
    "3. `#temp` gets an element with an id of **temp**, E.g. to get `<a id=\"temp\"></a>` use `select_one('#temp')`\n",
    "4. `.temp.example` gets an element with both classes **temp** and **example**, E.g. to get `<a class=\"temp example\"></a>` use `select_one('.temp.example')`\n",
    "5. `.temp a` gets an anchor element nested inside of a parent element with class **temp**, E.g. to get `<div class=\"temp\"><a></a></div>` use `select_one('.temp a')`. Note the space between `.temp` and `a`.\n",
    "6. `.temp .example` gets an element with class **example** nested inside of a parent element with class **temp**, E.g. to get `<div class=\"temp\"><a class=\"example\"></a></div>` use `select_one('.temp .example')`. Again, note the space between `.temp` and `.example`. The space tells the selector that the class after the space is a child of the class before the space.\n",
    "7. ids, such as `<a id=one></a>`, are unique so you can usually use the id selector by itself to get the right element. No need to do nested selectors when using ids.\n",
    "\n",
    "There's many more selectors for for doing various tasks, like selecting certain child elements, specific links, etc., that you can [look up when needed](https://www.w3schools.com/cssref/css_selectors.asp). The selectors above get us pretty close to everything we would need for now.\n",
    "\n",
    "**Tips on figuring out how to select certain elements**\n",
    "\n",
    "Most browsers have a quick way of finding the selector for an element using their developer tools. In Chrome, we can quickly find selectors for elements by\n",
    "1. Right-click on the the element then select \"Inspect\" in the menu. Developer tools opens and and highlights the element we right-clicked\n",
    "2. Right-click the code element in developer tools, hover over \"Copy\" in the menu, then click \"Copy selector\"\n",
    "\n",
    "Here how to find the selector and xpath in Chrome:\n",
    "\n",
    "<br />\n",
    "<a href=\"http://www.screencast.com/t/Ki8D2dRWEd\" target=\"_blank\">Watch Video Here</a>"
   ]
  },
  {
   "cell_type": "markdown",
   "metadata": {},
   "source": [
    "### Let's start! Getting data out of a table\n",
    "Our data is housed in a table on AllSides, and by inspecting the header element we can find the code that renders the table and rows. What we need to do is `select` all the rows from the table and then parse out the information from each row.\n",
    "\n",
    "<br />\n",
    "<a href=\"http://www.screencast.com/t/BhVYdOjsjJz\" target=\"_blank\">Watch Video Here</a>\n",
    "\n",
    "Simplifying the table's HTML, the structure looks like this (comments `<!-- -->` added by the author):\n",
    "\n",
    "```html\n",
    "<table>\n",
    "    <thead> \n",
    "        <!-- header information --> \n",
    "    </thead>\n",
    "    <tbody>\n",
    "        <tr class=\"odd views-row-first\">                                       <!-- begin table row -->\n",
    "            <td class=\"views-field views-field-title source-title\">            <!-- table cell -->\n",
    "                <!-- outlet name -->\n",
    "            </td> \n",
    "            <td class=\"views-field views-field-field-bias-image\">              <!-- table cell -->\n",
    "                <!-- bias data -->\n",
    "            </td> \n",
    "            <td class=\"views-field views-field-nothing-1 what-do-you-think\">   <!-- table cell -->\n",
    "                <!-- agree / disagree buttons -->\n",
    "            </td> \n",
    "            <td class=\"views-field views-field-nothing community-feedback\">    <!-- table cell -->\n",
    "                <!-- agree / disagree data -->\n",
    "            </td> \n",
    "        </tr>                                                                  <!-- end table row -->\n",
    "        <!-- more rows -->\n",
    "    </tbody>\n",
    "</table>\n",
    "```\n",
    "\n",
    "So to get each row, we just select all `<tr>` inside `<tbody>`:"
   ]
  },
  {
   "cell_type": "code",
   "execution_count": 23,
   "metadata": {},
   "outputs": [],
   "source": [
    "rows = soup.select('div.view-content > table > tbody > tr')"
   ]
  },
  {
   "cell_type": "code",
   "execution_count": 26,
   "metadata": {},
   "outputs": [
    {
     "data": {
      "text/plain": [
       "73"
      ]
     },
     "execution_count": 26,
     "metadata": {},
     "output_type": "execute_result"
    }
   ],
   "source": [
    "# How many <tr> tags this selector contains?\n",
    "len(rows)"
   ]
  },
  {
   "cell_type": "markdown",
   "metadata": {},
   "source": [
    "`div.view-content > table > tbody > tr` tells the selector to extract all `<tr>` (**t**able **r**ow) tags that are children of the specific `<tbody>` body tag.\n",
    "\n",
    "Now we have a list of HTML table rows that each contain four cells: \n",
    "- News source name and link\n",
    "- Bias data\n",
    "- Agreement buttons\n",
    "- Community feedback data\n",
    "\n",
    "Below is a breakdown of how to extract each one."
   ]
  },
  {
   "cell_type": "markdown",
   "metadata": {},
   "source": [
    "#### News source name\n",
    "<br />\n",
    "\n",
    "Let's look at the first cell:\n",
    "```html\n",
    "<td class=\"views-field views-field-title source-title\">\n",
    "    <a href=\"/news-source/abc-news-media-bias\">ABC News</a>\n",
    "</td>\n",
    "```\n",
    "\n",
    "The outlet name (*ABC News*) is the text of an anchor tag that's nested inside a `<td>` tag, which is a cell — or **t**able **d**ata tag.\n",
    "\n",
    "\n",
    "Getting the outlet name is pretty easy: just get the first row in `rows` and run a `select_one` off that object:"
   ]
  },
  {
   "cell_type": "code",
   "execution_count": 27,
   "metadata": {},
   "outputs": [
    {
     "name": "stdout",
     "output_type": "stream",
     "text": [
      "ABC News\n"
     ]
    }
   ],
   "source": [
    "row = rows[0]\n",
    "\n",
    "name = row.select_one('.source-title').text.strip()\n",
    "\n",
    "print(name)"
   ]
  },
  {
   "cell_type": "markdown",
   "metadata": {},
   "source": [
    "The only class we needed to use in this case was `.source-title` since `.views-field` looks to be just a class each row is given for styling and doesn't provide any uniqueness.\n",
    "\n",
    "Notice that we didn't need to worry about selecting the anchor tag `a` that contains the text. When we use `.text` is gets all text in that element, and since \"ABC News\" is the only text, that's all we need to do. Bear in mind that using `select` or `select_one` will give you the whole element with the tags included, so we need `.text` to give us the text between the tags.\n",
    "\n",
    "`.strip()` ensures all the whitespace surrounding the name is removed. This is a good thing to always do since many websites use whitespace as a way to visually pad the text inside elements.\n",
    "\n",
    "You'll notice that we can run BeautifulSoup methods right off one of the rows. That's because the rows become their own BeautifulSoup objects when we make a select from another BeautifulSoup object. On the other hand, our `name` variable is no longer a BeautifulSoup object because we called `.text`.\n",
    "\n",
    "### News source page link\n",
    "We also need the link to this news source's page on AllSides. If we look back at the HTML we'll see that in this case we *do* want to select the anchor in order to get the `href` that contains the link, so let's do that:"
   ]
  },
  {
   "cell_type": "code",
   "execution_count": 28,
   "metadata": {},
   "outputs": [
    {
     "name": "stdout",
     "output_type": "stream",
     "text": [
      "https://www.allsides.com/news-source/abc-news-media-bias\n"
     ]
    }
   ],
   "source": [
    "allsides_page = row.select_one('.source-title a')['href']\n",
    "allsides_page = 'https://www.allsides.com' + allsides_page\n",
    "\n",
    "print(allsides_page)"
   ]
  },
  {
   "cell_type": "markdown",
   "metadata": {},
   "source": [
    "It is a relative path in the HTML, so we prepend the site's URL to make it a link we can request later. \n",
    "\n",
    "Getting the link was a bit different than just selecting an element. We had to access an *attribute* (`href`) of the element, which is done using brackets, like how we would access a Python dictionary. This will be the same for other attributes of elements, like `src` in images and videos.\n",
    "\n",
    "### Bias rating\n",
    "\n",
    "<br />\n",
    "Inspect the ratings and you will see that the rating is displayed as an image and we need to turn the image into a real rating. Looking at the HTML notice the link that surrounds the image has the text we need:\n",
    "\n",
    "```html\n",
    "<td class=\"views-field views-field-field-bias-image\">\n",
    "    <a href=\"/media-bias/left-center\">\n",
    "        <img src=\"...\" width=\"144\" height=\"24\" alt=\"Political News Media Bias Rating: Lean Left\" title=\"Political News Media Bias Rating: Lean Left\">\n",
    "    </a>          \n",
    "</td>\n",
    "```\n",
    "\n",
    "We could also pull the `alt` attribute, but the link looks easier. Let's grab it:"
   ]
  },
  {
   "cell_type": "code",
   "execution_count": 29,
   "metadata": {},
   "outputs": [
    {
     "name": "stdout",
     "output_type": "stream",
     "text": [
      "left-center\n"
     ]
    }
   ],
   "source": [
    "bias = row.select_one('.views-field-field-bias-image a')['href']\n",
    "bias = bias.split('/')[-1]\n",
    "\n",
    "print(bias)"
   ]
  },
  {
   "cell_type": "markdown",
   "metadata": {},
   "source": [
    "Here we selected the anchor tag by using the class name and tag together: `.views-field-field-bias-image` is the class of the `<td>` and `<a>` is for the anchor nested inside. \n",
    "\n",
    "After that we extract the `href` just like before, but now we only want the last part of the URL for the name of the bias so we split on slashes and get the last element of that split (*left-center*).\n",
    "\n",
    "### Community feedback data\n",
    "\n",
    "<br />\n",
    "\n",
    "Finally, the last thing to scrape is the agree/disagree ratio from the community feedback area. This is an important information as it tells us whether there is an agreement on the rating. The HTML of this cell is pretty convoluted due to the styling, but here's the basic structure:\n",
    "\n",
    "```html\n",
    "<td class=\"views-field views-field-nothing community-feedback\">\n",
    "    <div class=\"getratingval\">\n",
    "        <div class=\"rate-widget-4 rate-widget clear-block rate-average rate-widget-yesno\" id=\"rate-node-76-4-1\">\n",
    "             <div class=\"item-list\">\n",
    "                <ul>\n",
    "                    <li class=\"first\">\n",
    "                        <a class=\"rate-button rate-btn\" href=\"...\" id=\"rate-button-3\">agree</a>\n",
    "                    </li>\n",
    "                    <li class=\"last\">\n",
    "                        <a class=\"rate-button rate-btn\" href=\"...\" id=\"rate-button-4\">disagree</a>\n",
    "                    </li>\n",
    "                </ul>\n",
    "            </div>\n",
    "            <div class=\"rate-details\">\n",
    "                <span class=\"agree\">8241</span>/<span class=\"disagree\">6568</span>\n",
    "            </div>\n",
    "        </div>\n",
    "    </div>\n",
    "</td>\n",
    "```\n",
    "\n",
    "The numbers we want are located in two `span` elements in the last `div`. Both `span` elements have classes that are unique in this cell so we can use them to make the selection:"
   ]
  },
  {
   "cell_type": "code",
   "execution_count": 30,
   "metadata": {},
   "outputs": [
    {
     "name": "stdout",
     "output_type": "stream",
     "text": [
      "Agree: 9494, Disagree: 7196, Ratio 1.32\n"
     ]
    }
   ],
   "source": [
    "agree = row.select_one('.agree').text\n",
    "agree = int(agree)\n",
    "\n",
    "disagree = row.select_one('.disagree').text\n",
    "disagree = int(disagree)\n",
    "\n",
    "agree_ratio = agree / disagree\n",
    "\n",
    "print(f\"Agree: {agree}, Disagree: {disagree}, Ratio {agree_ratio:.2f}\")"
   ]
  },
  {
   "cell_type": "markdown",
   "metadata": {},
   "source": [
    "Using `.text` will return a string, so we need to convert them to integers in order to calculate the ratio. \n",
    "\n",
    "**Side note:** If you've never seen this way of formatting print statements in Python, the `f` at the front allows us to insert variables right into the string using curly braces. The `:.2f` is a way to format floats to only show two decimals places.\n",
    "\n",
    "If you look at the page in your browser you'll notice that they say how much the community is in agreement by using \"somewhat agree\", \"strongly agree\", etc. so how do we get that? If we try to select it:"
   ]
  },
  {
   "cell_type": "code",
   "execution_count": 31,
   "metadata": {},
   "outputs": [
    {
     "name": "stdout",
     "output_type": "stream",
     "text": [
      "None\n"
     ]
    }
   ],
   "source": [
    "print(row.select_one('.community-feedback-rating-page'))"
   ]
  },
  {
   "cell_type": "markdown",
   "metadata": {},
   "source": [
    "It shows up as None because this element is rendered with Javascript and `requests` can't pull HTML rendered with Javascript. We'll be looking at how to get data rendered with JS in a different lecture, but since this is the only piece of information that's rendered this way we can manually recreate the text.\n",
    "\n",
    "To find the JS files they're using, just CTRL+F for \".js\" in the page source and open the files in a new tab to look for that logic. \n",
    "\n",
    "It turned out the logic was located in the eleventh JS file and they have a function that calculates the text and color with these parameters:\n",
    "\n",
    "<table width=\"300px\">\n",
    "    <thead>\n",
    "        <td>Range</td>\n",
    "        <td>Agreeance</td>\n",
    "    </thead>\n",
    "    <tr>\n",
    "        <td>$ratio > 3$</td>\n",
    "        <td>absolutely agrees</td>\n",
    "    </tr>\n",
    "    <tr>\n",
    "        <td>$2 < ratio \\leq 3$</td>\n",
    "        <td>strongly agrees</td>\n",
    "    </tr>\n",
    "    <tr>\n",
    "        <td>$1.5 < ratio \\leq 2$</td>\n",
    "        <td>agrees</td>\n",
    "    </tr>\n",
    "    <tr>\n",
    "        <td>$1 < ratio \\leq 1.5$</td>\n",
    "        <td>somewhat agrees</td>\n",
    "    </tr>\n",
    "    <tr>\n",
    "        <td>$ratio = 1$</td>\n",
    "        <td>neutral</td>\n",
    "    </tr>\n",
    "    <tr>\n",
    "        <td>$0.67 < ratio < 1$</td>\n",
    "        <td>somewhat disgrees</td>\n",
    "    </tr>\n",
    "    <tr>\n",
    "        <td>$0.5 < ratio \\leq 0.67$</td>\n",
    "        <td>disgrees</td>\n",
    "    </tr>\n",
    "    <tr>\n",
    "        <td>$0.33 < ratio \\leq 0.5$</td>\n",
    "        <td>strongly disagrees</td>\n",
    "    </tr>\n",
    "    <tr>\n",
    "        <td>$ratio \\leq 0.33$</td>\n",
    "        <td>absolutely disagrees</td>\n",
    "    </tr>\n",
    "</table>\n",
    "\n",
    "Let's make a function that replicates this logic:"
   ]
  },
  {
   "cell_type": "code",
   "execution_count": 32,
   "metadata": {},
   "outputs": [
    {
     "name": "stdout",
     "output_type": "stream",
     "text": [
      "strongly agrees\n"
     ]
    }
   ],
   "source": [
    "def get_agreeance_text(ratio):\n",
    "    if ratio > 3: return \"absolutely agrees\"\n",
    "    elif 2 < ratio <= 3: return \"strongly agrees\"\n",
    "    elif 1.5 < ratio <= 2: return \"agrees\"\n",
    "    elif 1 < ratio <= 1.5: return \"somewhat agrees\"\n",
    "    elif ratio == 1: return \"neutral\"\n",
    "    elif 0.67 < ratio < 1: return \"somewhat disagrees\"\n",
    "    elif 0.5 < ratio <= 0.67: return \"disagrees\"\n",
    "    elif 0.33 < ratio <= 0.5: return \"strongly disagrees\"\n",
    "    elif ratio <= 0.33: return \"absolutely disagrees\"\n",
    "    else: return None\n",
    "    \n",
    "print(get_agreeance_text(2.5))"
   ]
  },
  {
   "cell_type": "markdown",
   "metadata": {},
   "source": [
    "Now that we have the general logic for a single row and we can generate the agreeance text, let's create a loop that gets data from every row on the first page:"
   ]
  },
  {
   "cell_type": "code",
   "execution_count": 33,
   "metadata": {},
   "outputs": [],
   "source": [
    "data= []\n",
    "\n",
    "for row in rows:\n",
    "    d = dict()\n",
    "    \n",
    "    d['name'] = row.select_one('.source-title').text.strip()\n",
    "    d['allsides_page'] = 'https://www.allsides.com' + row.select_one('.source-title a')['href']\n",
    "    d['bias'] = row.select_one('.views-field-field-bias-image a')['href'].split('/')[-1]\n",
    "    d['agree'] = int(row.select_one('.agree').text)\n",
    "    d['disagree'] = int(row.select_one('.disagree').text)\n",
    "    d['agree_ratio'] = d['agree'] / d['disagree']\n",
    "    d['agreeance_text'] = get_agreeance_text(d['agree_ratio'])\n",
    "    \n",
    "    data.append(d)   "
   ]
  },
  {
   "cell_type": "markdown",
   "metadata": {},
   "source": [
    "In the loop we can combine any multi-step extractions into one to create the values in the least number of steps.\n",
    "\n",
    "Our `data` list now contains a dictionary containing key information for every row. "
   ]
  },
  {
   "cell_type": "code",
   "execution_count": 34,
   "metadata": {},
   "outputs": [
    {
     "name": "stdout",
     "output_type": "stream",
     "text": [
      "{'name': 'ABC News', 'allsides_page': 'https://www.allsides.com/news-source/abc-news-media-bias', 'bias': 'left-center', 'agree': 9494, 'disagree': 7196, 'agree_ratio': 1.3193440800444691, 'agreeance_text': 'somewhat agrees'}\n"
     ]
    }
   ],
   "source": [
    "print(data[0])"
   ]
  },
  {
   "cell_type": "markdown",
   "metadata": {},
   "source": [
    "Keep in mind that **this is still only the first page**. The list on *AllSides* is three pages long as of this writing, so we need to modify this loop to get the other pages.\n",
    "\n",
    "### Requesting and parsing multiple pages\n",
    "\n",
    "Notice that the URLs for each page follow a pattern. The first page has no parameters on the URL, but the next pages do; specifically they attach a `?page=#` to the URL where '#' is the page number. \n",
    "\n",
    "Right now, the easiest way to get all pages is just to manually make a list of these three pages and loop over them. If we were working on a project with thousands of pages we might build a more automated way of constructing/finding the next URLs, but for now this works."
   ]
  },
  {
   "cell_type": "code",
   "execution_count": 35,
   "metadata": {},
   "outputs": [],
   "source": [
    "pages = [\n",
    "    'https://www.allsides.com/media-bias/media-bias-ratings',\n",
    "    'https://www.allsides.com/media-bias/media-bias-ratings?page=1',\n",
    "    'https://www.allsides.com/media-bias/media-bias-ratings?page=2'\n",
    "]"
   ]
  },
  {
   "cell_type": "markdown",
   "metadata": {},
   "source": [
    "According to AllSides' *robots.txt* we need to make sure we wait ten seconds before each request. \n",
    "\n",
    "Our loop will:\n",
    "- request a page\n",
    "- parse the page\n",
    "- wait ten seconds\n",
    "- repeat for next page.\n",
    "\n",
    "Remember, we've already tested our parsing above on a page that was cached locally so we know it works. You'll want to make sure to do this **before** making a loop that performs requests to prevent having to reloop if you forgot to parse something.\n",
    "\n",
    "By combining all the steps we've done up to this point and adding a loop over pages, here's how it looks:"
   ]
  },
  {
   "cell_type": "code",
   "execution_count": 36,
   "metadata": {},
   "outputs": [],
   "source": [
    "from time import sleep\n",
    "\n",
    "data= []\n",
    "\n",
    "for page in pages:\n",
    "    r = requests.get(page)\n",
    "    soup = BeautifulSoup(r.content, 'html.parser')\n",
    "    \n",
    "    rows = soup.select('tbody tr')\n",
    "\n",
    "    for row in rows:\n",
    "        d = dict()\n",
    "\n",
    "        d['name'] = row.select_one('.source-title').text.strip()\n",
    "        d['allsides_page'] = 'https://www.allsides.com' + row.select_one('.source-title a')['href']\n",
    "        d['bias'] = row.select_one('.views-field-field-bias-image a')['href'].split('/')[-1]\n",
    "        d['agree'] = int(row.select_one('.agree').text)\n",
    "        d['disagree'] = int(row.select_one('.disagree').text)\n",
    "        d['agree_ratio'] = d['agree'] / d['disagree']\n",
    "        d['agreeance_text'] = get_agreeance_text(d['agree_ratio'])\n",
    "\n",
    "        data.append(d)\n",
    "    \n",
    "    sleep(10)"
   ]
  },
  {
   "cell_type": "markdown",
   "metadata": {},
   "source": [
    "Now we have a list of dictionaries for each row on all three pages. \n",
    "\n",
    "To cap it off, we want to get the real URL to the news source, not just the link to their presence on AllSides. To do this, we will need to get the AllSides page and look for the link.\n",
    "\n",
    "If we go to [ABC News' page](https://www.allsides.com/news-source/abc-news-media-bias) there's a row of external links to Facebook, Twitter, Wikipedia, and the ABC News website. The HTML for that sections looks like this:\n",
    "\n",
    "```html\n",
    "<div class=\"row-fluid source-links gray-bg-box\">\n",
    "\t<div class=\"container\">\t\n",
    "\t\t<a href=\"https://www.facebook.com/ABCNews/\" class=\"facebook\">\n",
    "            <i class=\"fa fa-facebook\" aria-hidden=\"true\"></i><span>Facebook</span>\n",
    "        </a>\n",
    "\t\t<a href=\"https://twitter.com/ABC\" class=\"twitter\">\n",
    "            <i class=\"fa fa-twitter\" aria-hidden=\"true\"></i>\n",
    "            <span>Twitter</span>\n",
    "        </a>\n",
    "\t\t<a href=\"https://en.wikipedia.org/wiki/ABC_News\" class=\"wikipedia\">\n",
    "            <i class=\"fa fa-wikipedia-w\" aria-hidden=\"true\"></i>\n",
    "            <span>Wikipedia</span>\n",
    "        </a>\n",
    "\t\t<a href=\"http://abcnews.go.com/\" class=\"www\"><i class=\"fa fa-globe\" aria-hidden=\"true\">\n",
    "            </i><span>ABC News</span>\n",
    "        </a>\n",
    "\t\t<a href=\"/contact\" class=\"improve-this-page\">\n",
    "            <i class=\"fa fa-line-chart\" aria-hidden=\"true\"></i>\n",
    "            <span>Improve this page</span>\n",
    "        </a>\n",
    "\t</div>\n",
    "</div>\n",
    "```\n",
    "Notice the anchor tag (`<a>`) that contains the link to ABC News has a class of \"www\". Pretty easy to get with what we've already learned:"
   ]
  },
  {
   "cell_type": "code",
   "execution_count": 44,
   "metadata": {},
   "outputs": [
    {
     "name": "stdout",
     "output_type": "stream",
     "text": [
      "https://www.allsides.com/news-source/abc-news-media-bias\n"
     ]
    }
   ],
   "source": [
    "print(data[0][\"allsides_page\"])"
   ]
  },
  {
   "cell_type": "code",
   "execution_count": 45,
   "metadata": {},
   "outputs": [
    {
     "name": "stdout",
     "output_type": "stream",
     "text": [
      "http://abcnews.go.com/\n"
     ]
    }
   ],
   "source": [
    "r = requests.get(data[0][\"allsides_page\"])\n",
    "soup = BeautifulSoup(r.content, 'html.parser')\n",
    "website = soup.select_one('.www')['href']\n",
    "print (website)"
   ]
  },
  {
   "cell_type": "markdown",
   "metadata": {},
   "source": [
    "So let's make another loop to request the AllSides page and get links for each news source. Unfortunately, some pages don't have a link in this grey bar to the news source, which brings up a good point: **always account for elements to randomly not exist**.\n",
    "\n",
    "Up until now we've assumed elements exist in the tables we scraped, but it's always a good idea to program scrapers in way so they don't break when an element goes missing.\n",
    "\n",
    "Using `select_one` or `select` will always return None or an empty list if nothing is found, so in this loop we'll check if we found the website element or not so it doesn't throw an Exception when trying to access the `href` attribute.\n",
    "\n",
    "Finally, since there's 265 news source pages and the wait time between pages is 10 seconds, it's going to take ~44 minutes to do this. Instead of blindly not knowing our progress, let's use the `tqdm` library to give us a nice progress bar:"
   ]
  },
  {
   "cell_type": "code",
   "execution_count": 46,
   "metadata": {},
   "outputs": [
    {
     "name": "stdout",
     "output_type": "stream",
     "text": [
      "Requirement already satisfied: tqdm in f:\\data\\anaconda5.3.0\\lib\\site-packages (4.26.0)\n"
     ]
    },
    {
     "name": "stderr",
     "output_type": "stream",
     "text": [
      "twisted 18.7.0 requires PyHamcrest>=1.9.0, which is not installed.\n",
      "You are using pip version 10.0.1, however version 19.0.1 is available.\n",
      "You should consider upgrading via the 'python -m pip install --upgrade pip' command.\n"
     ]
    }
   ],
   "source": [
    "!pip install tqdm"
   ]
  },
  {
   "cell_type": "code",
   "execution_count": 47,
   "metadata": {},
   "outputs": [
    {
     "data": {
      "application/vnd.jupyter.widget-view+json": {
       "model_id": "0381edec5c2149b78f4d44122617d8da",
       "version_major": 2,
       "version_minor": 0
      },
      "text/plain": [
       "HBox(children=(IntProgress(value=0, max=73), HTML(value='')))"
      ]
     },
     "metadata": {},
     "output_type": "display_data"
    },
    {
     "name": "stdout",
     "output_type": "stream",
     "text": [
      "\n"
     ]
    }
   ],
   "source": [
    "from tqdm import tqdm_notebook\n",
    "\n",
    "for d in tqdm_notebook(data):\n",
    "    r = requests.get(d['allsides_page'])\n",
    "    soup = BeautifulSoup(r.content, 'html.parser')\n",
    "    \n",
    "    try:\n",
    "        website = soup.select_one('.www')['href']\n",
    "        d['website'] = website\n",
    "    except TypeError:\n",
    "        pass\n",
    "    \n",
    "    sleep(10)"
   ]
  },
  {
   "cell_type": "markdown",
   "metadata": {},
   "source": [
    "`tqdm` is a little weird at first, but essentially `tqdm_notebook` is just wrapping around our data list to produce a progress bar. We are still able to access each dictionary, `d`, just as we would normally. Note that `tqdm_notebook` is only for Jupyter notebooks. In regular editors you'll just `import tqdm from tqdm` and use `tqdm` instead.\n",
    "\n",
    "### Saving our data\n",
    "So what do we have now? At this moment, `data` is a list of dictionaries, each of which contains all the data from the tables as well as the websites from each individual news source's page on AllSides.\n",
    "\n",
    "The first thing we'll want to do now is save that data to a file so we don't have to make those requests again. We'll be storing the data as JSON since it's already in that form anyway:"
   ]
  },
  {
   "cell_type": "code",
   "execution_count": 48,
   "metadata": {},
   "outputs": [],
   "source": [
    "import json\n",
    "\n",
    "with open('allsides.json', 'w') as f:\n",
    "    json.dump(data, f)"
   ]
  },
  {
   "cell_type": "markdown",
   "metadata": {},
   "source": [
    "To load it back in when you need it:"
   ]
  },
  {
   "cell_type": "code",
   "execution_count": 49,
   "metadata": {},
   "outputs": [],
   "source": [
    "with open('allsides.json', 'r') as f:\n",
    "    data = json.load(f)"
   ]
  },
  {
   "cell_type": "markdown",
   "metadata": {},
   "source": [
    "If you're not familiar with JSON, just quickly open `allsides.json` in an editor and see what it looks like. It should look almost exactly like what `data` looks like if we print it in Python: a list of dictionaries."
   ]
  },
  {
   "cell_type": "markdown",
   "metadata": {},
   "source": [
    "## Brief Data Analysis"
   ]
  },
  {
   "cell_type": "markdown",
   "metadata": {},
   "source": [
    "Before ending this lab it is worthwhile to actually see what's interesting about this data we just retrieved. So, let's answer a couple of questions.\n",
    "\n",
    "**Which ratings for outlets does the community *absolutely agree* on?**\n",
    "\n",
    "To find where the community absolutely agrees we can do a simple list comprehension that checks each `dict` for the agreeance text we want:"
   ]
  },
  {
   "cell_type": "code",
   "execution_count": 50,
   "metadata": {},
   "outputs": [
    {
     "name": "stdout",
     "output_type": "stream",
     "text": [
      "Outlet               Bias                \n",
      "------------------------------\n",
      "CNN - Editorial      left                \n",
      "Fox News Editorial   right               \n",
      "Jacobin              left                \n",
      "Mother Jones         left                \n",
      "New York Times - Opinion left                \n"
     ]
    }
   ],
   "source": [
    "abs_agree = [d for d in data if d['agreeance_text'] == 'absolutely agrees']\n",
    "\n",
    "print(f\"{'Outlet':<20} {'Bias':<20}\")\n",
    "print(\"-\" * 30)\n",
    "\n",
    "for d in abs_agree:\n",
    "    print(f\"{d['name']:<20} {d['bias']:<20}\")"
   ]
  },
  {
   "cell_type": "markdown",
   "metadata": {},
   "source": [
    "Using some string formatting we can make it look somewhat tabular. Interestingly, *C-SPAN* is the only center bias that the community absolutely agrees on. The others for left and right aren't that surprising.\n",
    "\n",
    "### Making analysis easier with Pandas\n",
    "\n",
    "**Which ratings for outlets does the community *absolutely disagree* on?**\n",
    "\n",
    "To make analysis a little easier, we can also load our JSON data into a Pandas DataFrame as well. This is easy with Pandas since they have a simple function for reading JSON into a DataFrame.\n",
    "\n",
    "As an aside, if you've never used Pandas, Matplotlib, or any of the other data science libraries, I would definitely recommend checking out [Jose Portilla's data science course]() for a great intro to these tools and many machine learning concepts.\n",
    "\n",
    "Now to the DataFrame:"
   ]
  },
  {
   "cell_type": "code",
   "execution_count": 51,
   "metadata": {},
   "outputs": [
    {
     "data": {
      "text/html": [
       "<div>\n",
       "<style scoped>\n",
       "    .dataframe tbody tr th:only-of-type {\n",
       "        vertical-align: middle;\n",
       "    }\n",
       "\n",
       "    .dataframe tbody tr th {\n",
       "        vertical-align: top;\n",
       "    }\n",
       "\n",
       "    .dataframe thead th {\n",
       "        text-align: right;\n",
       "    }\n",
       "</style>\n",
       "<table border=\"1\" class=\"dataframe\">\n",
       "  <thead>\n",
       "    <tr style=\"text-align: right;\">\n",
       "      <th></th>\n",
       "      <th>agree</th>\n",
       "      <th>agree_ratio</th>\n",
       "      <th>agreeance_text</th>\n",
       "      <th>allsides_page</th>\n",
       "      <th>bias</th>\n",
       "      <th>disagree</th>\n",
       "      <th>website</th>\n",
       "    </tr>\n",
       "    <tr>\n",
       "      <th>name</th>\n",
       "      <th></th>\n",
       "      <th></th>\n",
       "      <th></th>\n",
       "      <th></th>\n",
       "      <th></th>\n",
       "      <th></th>\n",
       "      <th></th>\n",
       "    </tr>\n",
       "  </thead>\n",
       "  <tbody>\n",
       "    <tr>\n",
       "      <th>ABC News</th>\n",
       "      <td>9495</td>\n",
       "      <td>1.319483</td>\n",
       "      <td>somewhat agrees</td>\n",
       "      <td>https://www.allsides.com/news-source/abc-news-...</td>\n",
       "      <td>left-center</td>\n",
       "      <td>7196</td>\n",
       "      <td>http://abcnews.go.com/</td>\n",
       "    </tr>\n",
       "    <tr>\n",
       "      <th>Al Jazeera</th>\n",
       "      <td>2402</td>\n",
       "      <td>0.666852</td>\n",
       "      <td>disagrees</td>\n",
       "      <td>https://www.allsides.com/news-source/al-jazeer...</td>\n",
       "      <td>center</td>\n",
       "      <td>3602</td>\n",
       "      <td>NaN</td>\n",
       "    </tr>\n",
       "    <tr>\n",
       "      <th>AlterNet</th>\n",
       "      <td>1430</td>\n",
       "      <td>2.313916</td>\n",
       "      <td>strongly agrees</td>\n",
       "      <td>https://www.allsides.com/news-source/alternet</td>\n",
       "      <td>left</td>\n",
       "      <td>618</td>\n",
       "      <td>http://www.alternet.org/</td>\n",
       "    </tr>\n",
       "    <tr>\n",
       "      <th>American Spectator</th>\n",
       "      <td>4878</td>\n",
       "      <td>2.332855</td>\n",
       "      <td>strongly agrees</td>\n",
       "      <td>https://www.allsides.com/news-source/american-...</td>\n",
       "      <td>right</td>\n",
       "      <td>2091</td>\n",
       "      <td>http://spectator.org/</td>\n",
       "    </tr>\n",
       "    <tr>\n",
       "      <th>Associated Press</th>\n",
       "      <td>5066</td>\n",
       "      <td>1.406441</td>\n",
       "      <td>somewhat agrees</td>\n",
       "      <td>https://www.allsides.com/news-source/associate...</td>\n",
       "      <td>center</td>\n",
       "      <td>3602</td>\n",
       "      <td>http://www.ap.org/</td>\n",
       "    </tr>\n",
       "  </tbody>\n",
       "</table>\n",
       "</div>"
      ],
      "text/plain": [
       "                    agree  agree_ratio   agreeance_text  \\\n",
       "name                                                      \n",
       "ABC News             9495     1.319483  somewhat agrees   \n",
       "Al Jazeera           2402     0.666852        disagrees   \n",
       "AlterNet             1430     2.313916  strongly agrees   \n",
       "American Spectator   4878     2.332855  strongly agrees   \n",
       "Associated Press     5066     1.406441  somewhat agrees   \n",
       "\n",
       "                                                        allsides_page  \\\n",
       "name                                                                    \n",
       "ABC News            https://www.allsides.com/news-source/abc-news-...   \n",
       "Al Jazeera          https://www.allsides.com/news-source/al-jazeer...   \n",
       "AlterNet                https://www.allsides.com/news-source/alternet   \n",
       "American Spectator  https://www.allsides.com/news-source/american-...   \n",
       "Associated Press    https://www.allsides.com/news-source/associate...   \n",
       "\n",
       "                           bias  disagree                   website  \n",
       "name                                                                 \n",
       "ABC News            left-center      7196    http://abcnews.go.com/  \n",
       "Al Jazeera               center      3602                       NaN  \n",
       "AlterNet                   left       618  http://www.alternet.org/  \n",
       "American Spectator        right      2091     http://spectator.org/  \n",
       "Associated Press         center      3602        http://www.ap.org/  "
      ]
     },
     "execution_count": 51,
     "metadata": {},
     "output_type": "execute_result"
    }
   ],
   "source": [
    "import pandas as pd\n",
    "\n",
    "df = pd.read_json(open('allsides.json', 'r'))\n",
    "\n",
    "df.set_index('name', inplace=True)\n",
    "\n",
    "df.head()"
   ]
  },
  {
   "cell_type": "markdown",
   "metadata": {},
   "source": [
    "Now filter the DataFrame by \"agreeance_text\":"
   ]
  },
  {
   "cell_type": "code",
   "execution_count": 52,
   "metadata": {},
   "outputs": [
    {
     "data": {
      "text/html": [
       "<div>\n",
       "<style scoped>\n",
       "    .dataframe tbody tr th:only-of-type {\n",
       "        vertical-align: middle;\n",
       "    }\n",
       "\n",
       "    .dataframe tbody tr th {\n",
       "        vertical-align: top;\n",
       "    }\n",
       "\n",
       "    .dataframe thead th {\n",
       "        text-align: right;\n",
       "    }\n",
       "</style>\n",
       "<table border=\"1\" class=\"dataframe\">\n",
       "  <thead>\n",
       "    <tr style=\"text-align: right;\">\n",
       "      <th></th>\n",
       "      <th>agree</th>\n",
       "      <th>agree_ratio</th>\n",
       "      <th>agreeance_text</th>\n",
       "      <th>allsides_page</th>\n",
       "      <th>bias</th>\n",
       "      <th>disagree</th>\n",
       "      <th>website</th>\n",
       "    </tr>\n",
       "    <tr>\n",
       "      <th>name</th>\n",
       "      <th></th>\n",
       "      <th></th>\n",
       "      <th></th>\n",
       "      <th></th>\n",
       "      <th></th>\n",
       "      <th></th>\n",
       "      <th></th>\n",
       "    </tr>\n",
       "  </thead>\n",
       "  <tbody>\n",
       "    <tr>\n",
       "      <th>The Economist</th>\n",
       "      <td>876</td>\n",
       "      <td>0.475828</td>\n",
       "      <td>strongly disagrees</td>\n",
       "      <td>https://www.allsides.com/news-source/economist</td>\n",
       "      <td>left-center</td>\n",
       "      <td>1841</td>\n",
       "      <td>http://www.economist.com/</td>\n",
       "    </tr>\n",
       "  </tbody>\n",
       "</table>\n",
       "</div>"
      ],
      "text/plain": [
       "               agree  agree_ratio      agreeance_text  \\\n",
       "name                                                    \n",
       "The Economist    876     0.475828  strongly disagrees   \n",
       "\n",
       "                                                allsides_page         bias  \\\n",
       "name                                                                         \n",
       "The Economist  https://www.allsides.com/news-source/economist  left-center   \n",
       "\n",
       "               disagree                    website  \n",
       "name                                                \n",
       "The Economist      1841  http://www.economist.com/  "
      ]
     },
     "execution_count": 52,
     "metadata": {},
     "output_type": "execute_result"
    }
   ],
   "source": [
    "df[df['agreeance_text'] == 'strongly disagrees']"
   ]
  },
  {
   "cell_type": "markdown",
   "metadata": {},
   "source": [
    "It looks like much of the community disagrees strongly with certain outlets being rated with a \"center\" bias.\n",
    "\n",
    "Let's make a quick visualization of agreeance. Since there's too many news sources to plot so let's pull only those with the most votes. To do that, we can make a new column that counts the total votes and then sort by that value:"
   ]
  },
  {
   "cell_type": "code",
   "execution_count": 53,
   "metadata": {},
   "outputs": [
    {
     "data": {
      "text/html": [
       "<div>\n",
       "<style scoped>\n",
       "    .dataframe tbody tr th:only-of-type {\n",
       "        vertical-align: middle;\n",
       "    }\n",
       "\n",
       "    .dataframe tbody tr th {\n",
       "        vertical-align: top;\n",
       "    }\n",
       "\n",
       "    .dataframe thead th {\n",
       "        text-align: right;\n",
       "    }\n",
       "</style>\n",
       "<table border=\"1\" class=\"dataframe\">\n",
       "  <thead>\n",
       "    <tr style=\"text-align: right;\">\n",
       "      <th></th>\n",
       "      <th>agree</th>\n",
       "      <th>agree_ratio</th>\n",
       "      <th>agreeance_text</th>\n",
       "      <th>allsides_page</th>\n",
       "      <th>bias</th>\n",
       "      <th>disagree</th>\n",
       "      <th>website</th>\n",
       "      <th>total_votes</th>\n",
       "    </tr>\n",
       "    <tr>\n",
       "      <th>name</th>\n",
       "      <th></th>\n",
       "      <th></th>\n",
       "      <th></th>\n",
       "      <th></th>\n",
       "      <th></th>\n",
       "      <th></th>\n",
       "      <th></th>\n",
       "      <th></th>\n",
       "    </tr>\n",
       "  </thead>\n",
       "  <tbody>\n",
       "    <tr>\n",
       "      <th>CNN (Web News)</th>\n",
       "      <td>23876</td>\n",
       "      <td>0.969190</td>\n",
       "      <td>somewhat disagrees</td>\n",
       "      <td>https://www.allsides.com/news-source/cnn-media...</td>\n",
       "      <td>left-center</td>\n",
       "      <td>24635</td>\n",
       "      <td>http://www.cnn.com</td>\n",
       "      <td>48511</td>\n",
       "    </tr>\n",
       "    <tr>\n",
       "      <th>Fox News</th>\n",
       "      <td>18478</td>\n",
       "      <td>0.659410</td>\n",
       "      <td>disagrees</td>\n",
       "      <td>https://www.allsides.com/news-source/fox-news-...</td>\n",
       "      <td>right-center</td>\n",
       "      <td>28022</td>\n",
       "      <td>http://www.foxnews.com/</td>\n",
       "      <td>46500</td>\n",
       "    </tr>\n",
       "    <tr>\n",
       "      <th>New York Times - News</th>\n",
       "      <td>12975</td>\n",
       "      <td>0.582335</td>\n",
       "      <td>disagrees</td>\n",
       "      <td>https://www.allsides.com/news-source/new-york-...</td>\n",
       "      <td>left-center</td>\n",
       "      <td>22281</td>\n",
       "      <td>http://www.nytimes.com/</td>\n",
       "      <td>35256</td>\n",
       "    </tr>\n",
       "    <tr>\n",
       "      <th>Washington Post</th>\n",
       "      <td>21968</td>\n",
       "      <td>1.663864</td>\n",
       "      <td>agrees</td>\n",
       "      <td>https://www.allsides.com/news-source/washingto...</td>\n",
       "      <td>left-center</td>\n",
       "      <td>13203</td>\n",
       "      <td>http://www.washingtonpost.com/regional</td>\n",
       "      <td>35171</td>\n",
       "    </tr>\n",
       "    <tr>\n",
       "      <th>HuffPost</th>\n",
       "      <td>16098</td>\n",
       "      <td>0.872757</td>\n",
       "      <td>somewhat disagrees</td>\n",
       "      <td>https://www.allsides.com/news-source/huffpost-...</td>\n",
       "      <td>left</td>\n",
       "      <td>18445</td>\n",
       "      <td>http://www.huffingtonpost.com/</td>\n",
       "      <td>34543</td>\n",
       "    </tr>\n",
       "    <tr>\n",
       "      <th>Politico</th>\n",
       "      <td>11614</td>\n",
       "      <td>0.606729</td>\n",
       "      <td>disagrees</td>\n",
       "      <td>https://www.allsides.com/news-source/politico-...</td>\n",
       "      <td>left-center</td>\n",
       "      <td>19142</td>\n",
       "      <td>http://www.politico.com/</td>\n",
       "      <td>30756</td>\n",
       "    </tr>\n",
       "    <tr>\n",
       "      <th>Washington Times</th>\n",
       "      <td>19361</td>\n",
       "      <td>2.009653</td>\n",
       "      <td>strongly agrees</td>\n",
       "      <td>https://www.allsides.com/news-source/washingto...</td>\n",
       "      <td>right-center</td>\n",
       "      <td>9634</td>\n",
       "      <td>http://www.washingtontimes.com/</td>\n",
       "      <td>28995</td>\n",
       "    </tr>\n",
       "    <tr>\n",
       "      <th>NPR News</th>\n",
       "      <td>16587</td>\n",
       "      <td>1.436850</td>\n",
       "      <td>somewhat agrees</td>\n",
       "      <td>https://www.allsides.com/news-source/npr-media...</td>\n",
       "      <td>center</td>\n",
       "      <td>11544</td>\n",
       "      <td>http://www.npr.org/</td>\n",
       "      <td>28131</td>\n",
       "    </tr>\n",
       "    <tr>\n",
       "      <th>Wall Street Journal - News</th>\n",
       "      <td>10400</td>\n",
       "      <td>0.641302</td>\n",
       "      <td>disagrees</td>\n",
       "      <td>https://www.allsides.com/news-source/wall-stre...</td>\n",
       "      <td>center</td>\n",
       "      <td>16217</td>\n",
       "      <td>http://online.wsj.com/</td>\n",
       "      <td>26617</td>\n",
       "    </tr>\n",
       "    <tr>\n",
       "      <th>Townhall</th>\n",
       "      <td>7962</td>\n",
       "      <td>0.619659</td>\n",
       "      <td>disagrees</td>\n",
       "      <td>https://www.allsides.com/news-source/townhall-...</td>\n",
       "      <td>right</td>\n",
       "      <td>12849</td>\n",
       "      <td>http://townhall.com/</td>\n",
       "      <td>20811</td>\n",
       "    </tr>\n",
       "  </tbody>\n",
       "</table>\n",
       "</div>"
      ],
      "text/plain": [
       "                            agree  agree_ratio      agreeance_text  \\\n",
       "name                                                                 \n",
       "CNN (Web News)              23876     0.969190  somewhat disagrees   \n",
       "Fox News                    18478     0.659410           disagrees   \n",
       "New York Times - News       12975     0.582335           disagrees   \n",
       "Washington Post             21968     1.663864              agrees   \n",
       "HuffPost                    16098     0.872757  somewhat disagrees   \n",
       "Politico                    11614     0.606729           disagrees   \n",
       "Washington Times            19361     2.009653     strongly agrees   \n",
       "NPR News                    16587     1.436850     somewhat agrees   \n",
       "Wall Street Journal - News  10400     0.641302           disagrees   \n",
       "Townhall                     7962     0.619659           disagrees   \n",
       "\n",
       "                                                                allsides_page  \\\n",
       "name                                                                            \n",
       "CNN (Web News)              https://www.allsides.com/news-source/cnn-media...   \n",
       "Fox News                    https://www.allsides.com/news-source/fox-news-...   \n",
       "New York Times - News       https://www.allsides.com/news-source/new-york-...   \n",
       "Washington Post             https://www.allsides.com/news-source/washingto...   \n",
       "HuffPost                    https://www.allsides.com/news-source/huffpost-...   \n",
       "Politico                    https://www.allsides.com/news-source/politico-...   \n",
       "Washington Times            https://www.allsides.com/news-source/washingto...   \n",
       "NPR News                    https://www.allsides.com/news-source/npr-media...   \n",
       "Wall Street Journal - News  https://www.allsides.com/news-source/wall-stre...   \n",
       "Townhall                    https://www.allsides.com/news-source/townhall-...   \n",
       "\n",
       "                                    bias  disagree  \\\n",
       "name                                                 \n",
       "CNN (Web News)               left-center     24635   \n",
       "Fox News                    right-center     28022   \n",
       "New York Times - News        left-center     22281   \n",
       "Washington Post              left-center     13203   \n",
       "HuffPost                            left     18445   \n",
       "Politico                     left-center     19142   \n",
       "Washington Times            right-center      9634   \n",
       "NPR News                          center     11544   \n",
       "Wall Street Journal - News        center     16217   \n",
       "Townhall                           right     12849   \n",
       "\n",
       "                                                           website  \\\n",
       "name                                                                 \n",
       "CNN (Web News)                                  http://www.cnn.com   \n",
       "Fox News                                   http://www.foxnews.com/   \n",
       "New York Times - News                      http://www.nytimes.com/   \n",
       "Washington Post             http://www.washingtonpost.com/regional   \n",
       "HuffPost                            http://www.huffingtonpost.com/   \n",
       "Politico                                  http://www.politico.com/   \n",
       "Washington Times                   http://www.washingtontimes.com/   \n",
       "NPR News                                       http://www.npr.org/   \n",
       "Wall Street Journal - News                  http://online.wsj.com/   \n",
       "Townhall                                      http://townhall.com/   \n",
       "\n",
       "                            total_votes  \n",
       "name                                     \n",
       "CNN (Web News)                    48511  \n",
       "Fox News                          46500  \n",
       "New York Times - News             35256  \n",
       "Washington Post                   35171  \n",
       "HuffPost                          34543  \n",
       "Politico                          30756  \n",
       "Washington Times                  28995  \n",
       "NPR News                          28131  \n",
       "Wall Street Journal - News        26617  \n",
       "Townhall                          20811  "
      ]
     },
     "execution_count": 53,
     "metadata": {},
     "output_type": "execute_result"
    }
   ],
   "source": [
    "df['total_votes'] = df['agree'] + df['disagree']\n",
    "df.sort_values('total_votes', ascending=False, inplace=True)\n",
    "\n",
    "df.head(10)"
   ]
  },
  {
   "cell_type": "markdown",
   "metadata": {},
   "source": [
    "#### Visualizing the data\n",
    "\n",
    "To make a bar plot we'll use Matplotlib with Seaborn's dark grid style:"
   ]
  },
  {
   "cell_type": "code",
   "execution_count": 54,
   "metadata": {},
   "outputs": [],
   "source": [
    "import matplotlib.pyplot as plt\n",
    "plt.style.use('seaborn-darkgrid')"
   ]
  },
  {
   "cell_type": "markdown",
   "metadata": {},
   "source": [
    "As mentioned above, we have too many news outlets to plot comfortably, so just make a copy of the top 25 and place it in a new `df2` variable:"
   ]
  },
  {
   "cell_type": "code",
   "execution_count": 55,
   "metadata": {},
   "outputs": [
    {
     "data": {
      "text/html": [
       "<div>\n",
       "<style scoped>\n",
       "    .dataframe tbody tr th:only-of-type {\n",
       "        vertical-align: middle;\n",
       "    }\n",
       "\n",
       "    .dataframe tbody tr th {\n",
       "        vertical-align: top;\n",
       "    }\n",
       "\n",
       "    .dataframe thead th {\n",
       "        text-align: right;\n",
       "    }\n",
       "</style>\n",
       "<table border=\"1\" class=\"dataframe\">\n",
       "  <thead>\n",
       "    <tr style=\"text-align: right;\">\n",
       "      <th></th>\n",
       "      <th>agree</th>\n",
       "      <th>agree_ratio</th>\n",
       "      <th>agreeance_text</th>\n",
       "      <th>allsides_page</th>\n",
       "      <th>bias</th>\n",
       "      <th>disagree</th>\n",
       "      <th>website</th>\n",
       "      <th>total_votes</th>\n",
       "    </tr>\n",
       "    <tr>\n",
       "      <th>name</th>\n",
       "      <th></th>\n",
       "      <th></th>\n",
       "      <th></th>\n",
       "      <th></th>\n",
       "      <th></th>\n",
       "      <th></th>\n",
       "      <th></th>\n",
       "      <th></th>\n",
       "    </tr>\n",
       "  </thead>\n",
       "  <tbody>\n",
       "    <tr>\n",
       "      <th>CNN (Web News)</th>\n",
       "      <td>23876</td>\n",
       "      <td>0.969190</td>\n",
       "      <td>somewhat disagrees</td>\n",
       "      <td>https://www.allsides.com/news-source/cnn-media...</td>\n",
       "      <td>left-center</td>\n",
       "      <td>24635</td>\n",
       "      <td>http://www.cnn.com</td>\n",
       "      <td>48511</td>\n",
       "    </tr>\n",
       "    <tr>\n",
       "      <th>Fox News</th>\n",
       "      <td>18478</td>\n",
       "      <td>0.659410</td>\n",
       "      <td>disagrees</td>\n",
       "      <td>https://www.allsides.com/news-source/fox-news-...</td>\n",
       "      <td>right-center</td>\n",
       "      <td>28022</td>\n",
       "      <td>http://www.foxnews.com/</td>\n",
       "      <td>46500</td>\n",
       "    </tr>\n",
       "    <tr>\n",
       "      <th>New York Times - News</th>\n",
       "      <td>12975</td>\n",
       "      <td>0.582335</td>\n",
       "      <td>disagrees</td>\n",
       "      <td>https://www.allsides.com/news-source/new-york-...</td>\n",
       "      <td>left-center</td>\n",
       "      <td>22281</td>\n",
       "      <td>http://www.nytimes.com/</td>\n",
       "      <td>35256</td>\n",
       "    </tr>\n",
       "    <tr>\n",
       "      <th>Washington Post</th>\n",
       "      <td>21968</td>\n",
       "      <td>1.663864</td>\n",
       "      <td>agrees</td>\n",
       "      <td>https://www.allsides.com/news-source/washingto...</td>\n",
       "      <td>left-center</td>\n",
       "      <td>13203</td>\n",
       "      <td>http://www.washingtonpost.com/regional</td>\n",
       "      <td>35171</td>\n",
       "    </tr>\n",
       "    <tr>\n",
       "      <th>HuffPost</th>\n",
       "      <td>16098</td>\n",
       "      <td>0.872757</td>\n",
       "      <td>somewhat disagrees</td>\n",
       "      <td>https://www.allsides.com/news-source/huffpost-...</td>\n",
       "      <td>left</td>\n",
       "      <td>18445</td>\n",
       "      <td>http://www.huffingtonpost.com/</td>\n",
       "      <td>34543</td>\n",
       "    </tr>\n",
       "  </tbody>\n",
       "</table>\n",
       "</div>"
      ],
      "text/plain": [
       "                       agree  agree_ratio      agreeance_text  \\\n",
       "name                                                            \n",
       "CNN (Web News)         23876     0.969190  somewhat disagrees   \n",
       "Fox News               18478     0.659410           disagrees   \n",
       "New York Times - News  12975     0.582335           disagrees   \n",
       "Washington Post        21968     1.663864              agrees   \n",
       "HuffPost               16098     0.872757  somewhat disagrees   \n",
       "\n",
       "                                                           allsides_page  \\\n",
       "name                                                                       \n",
       "CNN (Web News)         https://www.allsides.com/news-source/cnn-media...   \n",
       "Fox News               https://www.allsides.com/news-source/fox-news-...   \n",
       "New York Times - News  https://www.allsides.com/news-source/new-york-...   \n",
       "Washington Post        https://www.allsides.com/news-source/washingto...   \n",
       "HuffPost               https://www.allsides.com/news-source/huffpost-...   \n",
       "\n",
       "                               bias  disagree  \\\n",
       "name                                            \n",
       "CNN (Web News)          left-center     24635   \n",
       "Fox News               right-center     28022   \n",
       "New York Times - News   left-center     22281   \n",
       "Washington Post         left-center     13203   \n",
       "HuffPost                       left     18445   \n",
       "\n",
       "                                                      website  total_votes  \n",
       "name                                                                        \n",
       "CNN (Web News)                             http://www.cnn.com        48511  \n",
       "Fox News                              http://www.foxnews.com/        46500  \n",
       "New York Times - News                 http://www.nytimes.com/        35256  \n",
       "Washington Post        http://www.washingtonpost.com/regional        35171  \n",
       "HuffPost                       http://www.huffingtonpost.com/        34543  "
      ]
     },
     "execution_count": 55,
     "metadata": {},
     "output_type": "execute_result"
    }
   ],
   "source": [
    "df2 = df.head(25).copy()\n",
    "\n",
    "df2.head()"
   ]
  },
  {
   "cell_type": "markdown",
   "metadata": {},
   "source": [
    "With the top 25 news sources by amount of feedback, let's create a stacked bar chart where the number of *agrees* are stacked on top of the number of *disagrees*. This makes the total height of the bar the total amount of feedback.\n",
    "\n",
    "Below, we first create a figure and axes, plot the agree bars, plot the disagree bars on top of the agrees using `bottom`, then set various text features:"
   ]
  },
  {
   "cell_type": "code",
   "execution_count": 56,
   "metadata": {},
   "outputs": [
    {
     "data": {
      "image/png": "[encoded data removed]",
      "text/plain": [
       "<Figure size 1440x720 with 1 Axes>"
      ]
     },
     "metadata": {
      "needs_background": "light"
     },
     "output_type": "display_data"
    }
   ],
   "source": [
    "fig, ax = plt.subplots(figsize=(20, 10))\n",
    "\n",
    "ax.bar(df2.index, df2['agree'], color='#5DAF83')\n",
    "ax.bar(df2.index, df2['disagree'], bottom=df2['agree'], color='#AF3B3B')\n",
    "\n",
    "ax.set_ylabel = 'Total feedback'\n",
    "\n",
    "plt.yticks(fontsize='x-large')\n",
    "plt.xticks(rotation=60, ha='right', fontsize='x-large', rotation_mode='anchor')\n",
    "\n",
    "plt.legend(['Agree', 'Disagree'], fontsize='xx-large')\n",
    "plt.title('AllSides Bias Rating vs. Community Feedback', fontsize='xx-large')\n",
    "plt.show()"
   ]
  },
  {
   "cell_type": "markdown",
   "metadata": {},
   "source": [
    "For a slightly more complex version, let's make a subplot for each bias and plot the respective news sources.\n",
    "\n",
    "This time we'll make a new copy of the original DataFrame beforehand since we can plot more news outlets now.\n",
    "\n",
    "Instead of making one axes, we'll create a new one for each bias to make six total subplots:"
   ]
  },
  {
   "cell_type": "code",
   "execution_count": 62,
   "metadata": {},
   "outputs": [
    {
     "data": {
      "image/png": "[encoded data removed]",
      "text/plain": [
       "<Figure size 1080x1080 with 5 Axes>"
      ]
     },
     "metadata": {
      "needs_background": "light"
     },
     "output_type": "display_data"
    }
   ],
   "source": [
    "df3 = df.copy()\n",
    "\n",
    "fig = plt.figure(figsize=(15,15))\n",
    "\n",
    "biases = df3['bias'].unique()\n",
    "\n",
    "for i, bias in enumerate(biases):\n",
    "    # Get top 10 news sources for this bias and sort index alphabetically\n",
    "    temp_df = df3[df3['bias'] == bias].iloc[:10]\n",
    "    temp_df.sort_index(inplace=True)\n",
    "    \n",
    "    # Get max votes, i.e. the y value for tallest bar in this temp dataframe\n",
    "    max_votes = temp_df['total_votes'].max()\n",
    "    \n",
    "    # Add a new subplot in the correct grid position\n",
    "    #print (i+1)\n",
    "    #print (bias)\n",
    "    ax = fig.add_subplot(len(biases) / 2, 3, i + 1)\n",
    "    \n",
    "    # Create the stacked bars\n",
    "    ax.bar(temp_df.index, temp_df['agree'], color='#5DAF83')\n",
    "    ax.bar(temp_df.index, temp_df['disagree'], bottom=temp_df['agree'], color='#AF3B3B')\n",
    "    \n",
    "    # Place text for the ratio on top of each bar\n",
    "    for x, y, ratio in zip(ax.get_xticks(), temp_df['total_votes'], temp_df['agree_ratio']):\n",
    "        ax.text(x, y + (0.02 * max_votes), f\"{ratio:.2f}\", ha='center')\n",
    "    \n",
    "    ax.set_ylabel('Total feedback')\n",
    "    ax.set_title(bias.title())\n",
    "    \n",
    "    # Make y limit larger to compensate for text on bars\n",
    "    ax.set_ylim(0, max_votes + (0.12 * max_votes))\n",
    "    \n",
    "    # Rotate tick labels so they don't overlap\n",
    "    plt.setp(ax.get_xticklabels(), rotation=30, ha='right')\n",
    "\n",
    "plt.tight_layout(w_pad=3.0, h_pad=1.0)\n",
    "plt.show()"
   ]
  },
  {
   "cell_type": "markdown",
   "metadata": {},
   "source": [
    "Hopefully the comments help with how these plots were created. We're just looping through each unique bias and adding a subplot to the figure.\n",
    "\n",
    "When interpreting these plots keep in mind that the y-axis has different scales for each subplot. Overall it's a nice way to see which outlets have a lot of votes and where the most disagreement is. This is what makes scraping so much fun!"
   ]
  },
  {
   "cell_type": "markdown",
   "metadata": {},
   "source": [
    "## Final words\n",
    "\n",
    "We have the tools to make some fairly complex web scrapers now, but there's still the issue with Javascript rendering. This is something that deserves its own lecture, but for now we can do quite a lot.\n",
    "\n",
    "There's also some project organization that needs to occur when making this into a more easily runnable program. We need to pull it out of this notebook and code in command-line arguments if we plan to run it often for updates.\n",
    "\n",
    "These sorts of things will be addressed later when we build more complex scrapers."
   ]
  },
  {
   "cell_type": "code",
   "execution_count": null,
   "metadata": {},
   "outputs": [],
   "source": []
  }
 ],
 "metadata": {
  "kernelspec": {
   "display_name": "Python 3",
   "language": "python",
   "name": "python3"
  },
  "language_info": {
   "codemirror_mode": {
    "name": "ipython",
    "version": 3
   },
   "file_extension": ".py",
   "mimetype": "text/x-python",
   "name": "python",
   "nbconvert_exporter": "python",
   "pygments_lexer": "ipython3",
   "version": "3.7.0"
  }
 },
 "nbformat": 4,
 "nbformat_minor": 2
}
